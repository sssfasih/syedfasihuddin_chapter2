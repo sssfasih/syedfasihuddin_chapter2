{
 "cells": [
  {
   "cell_type": "markdown",
   "metadata": {},
   "source": [
    "2.1: Write Python algebraic expressions corresponding to the following statements:"
   ]
  },
  {
   "cell_type": "code",
   "execution_count": 16,
   "metadata": {},
   "outputs": [
    {
     "name": "stdout",
     "output_type": "stream",
     "text": [
      "Sum of 5 integers '5,2,3,1,4 is': 15\n",
      "Average age of Sara, Mark and Fatima is: 24.333333333333332\n",
      "73 goes into 403 5 times with remainder 38\n",
      "1024\n",
      "The absolute value of the difference between Sara’s height is: 3.0 inches\n",
      "29.95\n"
     ]
    }
   ],
   "source": [
    "# (a) The sum of the first five positive integers\n",
    "sum = (5+2+3+1+4)\n",
    "print(\"Sum of 5 integers '5,2,3,1,4 is':\",sum)\n",
    "\n",
    "# (b) The average age of Sara (age 23), Mark (age 19), and Fatima (age 31)\n",
    "sara= 23\n",
    "mark = 19\n",
    "fatima=31\n",
    "avg= (sara+mark+fatima)/3\n",
    "print(\"Average age of Sara, Mark and Fatima is:\",avg)\n",
    "\n",
    "# (c) The number of times 73 goes into 403\n",
    "# (d) The remainder when 403 is divided by 73\n",
    "a =403\n",
    "devisor = 73\n",
    "ans = a // devisor\n",
    "remainder = a%devisor\n",
    "print(devisor,\"goes into\",a,ans,\"times with remainder\",remainder)\n",
    "\n",
    "# (e) 2 to the 10th power\n",
    "print(2**10)\n",
    "# (f) The absolute value of the difference between Sara’s height (54 inches) and Mark’s height (57 inches)\n",
    "sara_height= float(54)\n",
    "mark_height=float(57)\n",
    "print(\"The absolute value of the difference between Sara’s height is:\",mark_height - sara_height,\"inches\")\n",
    "\n",
    "# (g) The lowest price among the following prices: $34.99, $29.95, and $31.50\n",
    "price1=34.99\n",
    "price2=29.95\n",
    "price3=31.50\n",
    "print(min(price1,price2,price3))"
   ]
  },
  {
   "cell_type": "markdown",
   "metadata": {},
   "source": [
    "2.2 : Translate the following statements into Python Boolean expressions and evaluate them:"
   ]
  },
  {
   "cell_type": "code",
   "execution_count": 17,
   "metadata": {},
   "outputs": [
    {
     "name": "stdout",
     "output_type": "stream",
     "text": [
      "False\n",
      "True\n",
      "True\n",
      "False\n",
      "True\n",
      "False\n",
      "True\n"
     ]
    }
   ],
   "source": [
    "# (a) The sum of 2 and 2 is less than 4\n",
    "print((2+2) < 4)\n",
    "# (b) The value of 7 // 3 is equal to 1 + 1\n",
    "print(7 // 3 == 1 + 1)\n",
    "# (c) The sum of 3 squared and 4 squared is equal to 25.\n",
    "print(3**2 + 4**2 == 25)\n",
    "# (d) The sum of 2, 4, and 6 is greater than 12.\n",
    "print(2+4+6 > 12)\n",
    "# (e) 1387 is divisible by 19.\n",
    "print(1387 % 19 == 0)\n",
    "# (f) 31 is even. (Hint: what does the remainder when you divide by 2 tell you?)\n",
    "print(31 % 2 == 0)\n",
    "# (g) The lowest price among $34.99, $29.95, and $31.50 is less than $30.00.\n",
    "print(min(34.99,29.95,31.50,) < 30.00)\n"
   ]
  },
  {
   "cell_type": "markdown",
   "metadata": {},
   "source": [
    "2.3 Write Python statements that correspond to the actions below and execute them:"
   ]
  },
  {
   "cell_type": "code",
   "execution_count": 18,
   "metadata": {},
   "outputs": [
    {
     "name": "stdout",
     "output_type": "stream",
     "text": [
      "25\n"
     ]
    }
   ],
   "source": [
    "# (a) Assign integer value 3 to variable a.\n",
    "a = int(3)\n",
    "# (b) Assign 4 to variable b\n",
    "b = 4\n",
    "# (c) Assign to variable c the value of expression a * a + b * b.\n",
    "c = a * a + b * b\n",
    "print(c)"
   ]
  },
  {
   "cell_type": "code",
   "execution_count": 19,
   "metadata": {},
   "outputs": [
    {
     "name": "stdout",
     "output_type": "stream",
     "text": [
      "antbatcod\n",
      "antantantantantantantantantant\n",
      "antbatbatcodcodcod\n",
      "antbatantbatantbatantbatantbatantbatantbat\n",
      "batbatcodbatbatcodbatbatcodbatbatcodbatbatcod\n"
     ]
    }
   ],
   "source": [
    "#2.4\n",
    "#Start by executing the assignment statements:\n",
    "s1 = 'ant'\n",
    "s2 = 'bat'\n",
    "s3 = 'cod'\n",
    "#Write Python expressions using s1, s2, and s3 and operators + and * that evaluate to:\n",
    "#(a) 'ant bat cod'\n",
    "print(s1+s2+s3)\n",
    "#(b) 'ant ant ant ant ant ant ant ant ant ant '\n",
    "print(s1*10)\n",
    "#(c) 'ant bat bat cod cod cod'\n",
    "print(s1+s2*2+s3*3)\n",
    "#(d) 'ant bat ant bat ant bat ant bat ant bat ant bat ant bat '\n",
    "print((s1+s2)*7)\n",
    "#(e) 'batbatcod batbatcod batbatcod batbatcod batbatcod '\n",
    "print(((s2*2)+(s3))*5)"
   ]
  },
  {
   "cell_type": "code",
   "execution_count": 20,
   "metadata": {},
   "outputs": [
    {
     "name": "stdout",
     "output_type": "stream",
     "text": [
      "0\n",
      "1\n",
      "6\n",
      "8\n",
      "9\n"
     ]
    }
   ],
   "source": [
    "#2.5\n",
    "#Start by executing the assignment:\n",
    "s = '0123456789'\n",
    "#Now write expressions using string s and the indexing operator that evaluate to:\n",
    "#(a) '0'\n",
    "print(s[0])\n",
    "#(b) '1'\n",
    "print(s[1])\n",
    "#(c) '6'\n",
    "print(s[6])\n",
    "#(d) '8'\n",
    "print(s[8])\n",
    "#(e) '9'\n",
    "print(s[9])"
   ]
  },
  {
   "cell_type": "code",
   "execution_count": 21,
   "metadata": {},
   "outputs": [
    {
     "name": "stdout",
     "output_type": "stream",
     "text": [
      "{'bat': 'badminton'}\n"
     ]
    }
   ],
   "source": [
    "#2.6\n",
    "#First execute the assignment\n",
    "words = ['bat', 'ball', 'barn', 'basket', 'badminton']\n",
    "#Now write two Python expressions that evaluate to the first and last, respectively, word in words, in dictionary order\n",
    "dict ={words[0]:words[-1]}\n",
    "print(dict)"
   ]
  },
  {
   "cell_type": "code",
   "execution_count": 22,
   "metadata": {},
   "outputs": [
    {
     "name": "stdout",
     "output_type": "stream",
     "text": [
      "2\n",
      "[9, 7, 7, 10, 3, 9, 6, 6, 4]\n",
      "10\n",
      "[3, 4, 6, 6, 7, 7, 9, 9, 10]\n",
      "52.111111111111114\n"
     ]
    }
   ],
   "source": [
    "#2.7\n",
    "#Given the list of student homework grades\n",
    "grades = [9, 7, 7, 10, 3, 9, 6, 6, 2]\n",
    "#write:\n",
    "#(a) An expression that evaluates to the number of 7 grades\n",
    "print(grades.count(7))\n",
    "#(b) A statement that changes the last grade to 4\n",
    "grades[-1]=4\n",
    "print(grades)\n",
    "#(c) An expression that evaluates to the maximum grade\n",
    "print(max(grades))\n",
    "#(d) A statement that sorts the list grades\n",
    "grades.sort()\n",
    "print(grades)\n",
    "#(e) An expression that evaluates to the average grade\n",
    "print(grades[0]+grades[1]+grades[2]+grades[3]+grades[4]+grades[5]+grades[6]+grades[7]+grades[8]/len(grades))"
   ]
  },
  {
   "cell_type": "markdown",
   "metadata": {},
   "source": [
    "![2-8](2-8.png)"
   ]
  },
  {
   "cell_type": "markdown",
   "metadata": {},
   "source": [
    "![2-9](2-9.png)"
   ]
  },
  {
   "cell_type": "markdown",
   "metadata": {},
   "source": [
    "2.10 Write Python expressions corresponding to the following:"
   ]
  },
  {
   "cell_type": "code",
   "execution_count": 23,
   "metadata": {},
   "outputs": [
    {
     "name": "stdout",
     "output_type": "stream",
     "text": [
      "Enter length of Perpendicular (in cm):2\n",
      "Enter length of Base (in cm):3\n",
      "Length of hypotenuse in right triangle is 13 cm\n"
     ]
    }
   ],
   "source": [
    "#(a) The length of the hypotenuse in a right triangle whose other two sides have lengths a and b\n",
    "a = eval(input(\"Enter length of Perpendicular (in cm):\"))\n",
    "b = eval(input(\"Enter length of Base (in cm):\"))\n",
    "c= pow(a,2) + pow(b,2)\n",
    "\n",
    "#(b) The value of the expression that evaluates whether the length of the above hypotenuse is 5\n",
    "print (\"Length of hypotenuse in right triangle is\",c,\"cm\")\n",
    "if c == 5:\n",
    "    print(\"Value of Hyp is = 5 cm\")\n",
    "\n",
    "#(c) The area of a disk of radius a"
   ]
  },
  {
   "cell_type": "code",
   "execution_count": 24,
   "metadata": {},
   "outputs": [
    {
     "name": "stdout",
     "output_type": "stream",
     "text": [
      "Enter radius (in meters):2\n",
      "Area of disk is: 12.566370614359172 m^2\n"
     ]
    }
   ],
   "source": [
    "#(c) The area of a disk of radius a\n",
    "from math import pi\n",
    "a= eval(input(\"Enter radius (in meters):\"))\n",
    "area= (pi)*(a**2)\n",
    "print(\"Area of disk is:\",area,\"m^2\")"
   ]
  },
  {
   "cell_type": "code",
   "execution_count": 25,
   "metadata": {},
   "outputs": [
    {
     "name": "stdout",
     "output_type": "stream",
     "text": [
      "Enter Radius (cm):5\n",
      "Enter x-axis of point:2\n",
      "Enter y-axis of point:3\n",
      "Point( 2.0 , 3.0 )lies inside the circle\n"
     ]
    }
   ],
   "source": [
    "#(d) The value of the Boolean expression that checks whether a point with coordinates x and y is inside a circle with center (a, b) and radius r\n",
    "radius= float(input(\"Enter Radius (cm):\"))\n",
    "x= float(input(\"Enter x-axis of point:\"))\n",
    "y = float(input(\"Enter y-axis of point:\"))\n",
    "#From Center to this point distance must be less than radius\n",
    "from math import sqrt\n",
    "distance = sqrt(pow((x-0),2)+pow(y-0,2))\n",
    "if distance > radius:\n",
    "    print(\"Point(\",x,\",\",y,\")doesn't lie inside the circle\")\n",
    "elif distance < radius:\n",
    "    print(\"Point(\",x,\",\",y,\")lies inside the circle\")\n",
    "else:\n",
    "    print(\"Error: No Condition was passed\")\n",
    "    "
   ]
  },
  {
   "cell_type": "markdown",
   "metadata": {},
   "source": [
    "2.11 Write Python expressions corresponding to these statements:"
   ]
  },
  {
   "cell_type": "code",
   "execution_count": 34,
   "metadata": {},
   "outputs": [
    {
     "name": "stdout",
     "output_type": "stream",
     "text": [
      "-27\n"
     ]
    }
   ],
   "source": [
    "#(a) The sum of negative integers −7 through −1\n",
    "def sum():\n",
    "    b=0\n",
    "    for a in range(-7,-1):\n",
    "        b=b+a\n",
    "    print(b)\n",
    "sum()"
   ]
  },
  {
   "cell_type": "code",
   "execution_count": 37,
   "metadata": {},
   "outputs": [
    {
     "name": "stdout",
     "output_type": "stream",
     "text": [
      "Average age is: 627.6404494382023 10.651685393258427 years\n"
     ]
    }
   ],
   "source": [
    "#(b) The average age of a group of kids at a summer camp given than 17 are 9 years old, 24 are 10 years old, 21 are 11 years old, and 27 are 12 years old\n",
    "avg=(17*9 + 24*10 + 21*11 + 27*12)/(17+24+21+27)\n",
    "print(\"Average age is:\",avg,\"years\")\n",
    "#(c) 2 to the power −20\n",
    "print(2**-20)\n",
    "#(d) The number of times 61 goes into 4356\n",
    "print(int(4356/61))\n",
    "#(e) The remainder when 4365 is divided by 61\n",
    "print( 4365 % 61)"
   ]
  },
  {
   "cell_type": "markdown",
   "metadata": {},
   "source": [
    "2.12 Start by evaluating, in the interactive shell, the assignment:\n"
   ]
  },
  {
   "cell_type": "code",
   "execution_count": 41,
   "metadata": {},
   "outputs": [
    {
     "name": "stdout",
     "output_type": "stream",
     "text": [
      "-+\n",
      "-+-\n",
      "+--\n",
      "+--+--\n",
      "+--+--+--+--+--+--+--+--+--+--+\n",
      "+-+++--+-+++--+-+++--+-+++--+-+++--\n"
     ]
    }
   ],
   "source": [
    "s1 = '-'\n",
    "s2 = '+'\n",
    "#Now write string expressions involving s1 and s2 and string operators + and * that evaluate to:\n",
    "#(a) '-+'\n",
    "print(s1+s2)\n",
    "#(b) '-+-'\n",
    "print(s1+s2+s1)\n",
    "#(c) '+––'\n",
    "print(s2 + 2*s1)\n",
    "#(d) '+––+––'\n",
    "print(2*(s2 + 2*s1))\n",
    "#(e) '+––+––+––+––+––+––+––+––+––+––+'\n",
    "print(10*(s2 + 2*s1) + s2)\n",
    "#(f) '+–+++––+–+++––+–+++––+–+++––+–+++––'\n",
    "print(5*(s2+s1+3*s2+2*s1))\n"
   ]
  },
  {
   "cell_type": "markdown",
   "metadata": {},
   "source": [
    "2.13 Start by running, in the shell, the following assignment statement:"
   ]
  },
  {
   "cell_type": "code",
   "execution_count": 45,
   "metadata": {},
   "outputs": [
    {
     "name": "stdout",
     "output_type": "stream",
     "text": [
      "a\n",
      "c\n",
      "z\n",
      "y\n",
      "m\n"
     ]
    }
   ],
   "source": [
    " s = 'abcdefghijklmnopqrstuvwxyz'\n",
    "#Now write expressions using string s and the indexing operator that evaluate to 'a', 'c', 'z', 'y', and 'q'.\n",
    "print(s[0])\n",
    "print(s[2])\n",
    "print(s[25])\n",
    "print(s[24])\n",
    "print(s[12])"
   ]
  },
  {
   "cell_type": "markdown",
   "metadata": {},
   "source": [
    "2.14 Start by executing"
   ]
  },
  {
   "cell_type": "code",
   "execution_count": 51,
   "metadata": {},
   "outputs": [
    {
     "name": "stdout",
     "output_type": "stream",
     "text": [
      "True\n",
      "False\n",
      "False\n",
      "False\n",
      "False\n",
      "False\n"
     ]
    }
   ],
   "source": [
    "s = 'goodbye'\n",
    "#Then write a Boolean expression that checks whether:\n",
    "#(a) The first character of string s is 'g'\n",
    "print(s[0] == 'g')\n",
    "#(b) The seventh character of s is 'g'\n",
    "print(s[6] == 'g')\n",
    "#(c) The first two characters of s are 'g' and 'a'\n",
    "print((s[0] == 'g' and s[1] == 'a'))\n",
    "#(d) The next to last character of s is 'x'\n",
    "print(s[-1] == 'x' )\n",
    "#(e) The middle character of s is 'd'\n",
    "s[len(s)//2] == 'd'\n",
    "#(f) The first and last characters of string s are equal\n",
    "print(s[0] == s[-1])\n",
    "#(g) The last four characters of string s match the string 'tion'\n",
    "print(s[-4:] == \"tion\")"
   ]
  },
  {
   "cell_type": "code",
   "execution_count": null,
   "metadata": {},
   "outputs": [],
   "source": []
  }
 ],
 "metadata": {
  "kernelspec": {
   "display_name": "Python 3",
   "language": "python",
   "name": "python3"
  },
  "language_info": {
   "codemirror_mode": {
    "name": "ipython",
    "version": 3
   },
   "file_extension": ".py",
   "mimetype": "text/x-python",
   "name": "python",
   "nbconvert_exporter": "python",
   "pygments_lexer": "ipython3",
   "version": "3.7.4"
  }
 },
 "nbformat": 4,
 "nbformat_minor": 2
}

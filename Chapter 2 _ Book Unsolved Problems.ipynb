{
 "cells": [
  {
   "cell_type": "markdown",
   "metadata": {},
   "source": [
    "## Syed Fasih Uddin ~ 19B-029-SE ~ Chapter 2 - Book Unsolved Problems"
   ]
  },
  {
   "cell_type": "markdown",
   "metadata": {},
   "source": [
    "2.1: Write Python algebraic expressions corresponding to the following statements:"
   ]
  },
  {
   "cell_type": "code",
   "execution_count": 1,
   "metadata": {},
   "outputs": [
    {
     "name": "stdout",
     "output_type": "stream",
     "text": [
      "Sum of 5 integers '5,2,3,1,4 is': 15\n",
      "Average age of Sara, Mark and Fatima is: 24.333333333333332\n",
      "73 goes into 403 5 times with remainder 38\n",
      "1024\n",
      "The absolute value of the difference between Sara’s height is: 3.0 inches\n",
      "29.95\n"
     ]
    }
   ],
   "source": [
    "# (a) The sum of the first five positive integers\n",
    "sum = (5+2+3+1+4)\n",
    "print(\"Sum of 5 integers '5,2,3,1,4 is':\",sum)\n",
    "\n",
    "# (b) The average age of Sara (age 23), Mark (age 19), and Fatima (age 31)\n",
    "sara= 23\n",
    "mark = 19\n",
    "fatima=31\n",
    "avg= (sara+mark+fatima)/3\n",
    "print(\"Average age of Sara, Mark and Fatima is:\",avg)\n",
    "\n",
    "# (c) The number of times 73 goes into 403\n",
    "# (d) The remainder when 403 is divided by 73\n",
    "a =403\n",
    "devisor = 73\n",
    "ans = a // devisor\n",
    "remainder = a%devisor\n",
    "print(devisor,\"goes into\",a,ans,\"times with remainder\",remainder)\n",
    "\n",
    "# (e) 2 to the 10th power\n",
    "print(2**10)\n",
    "# (f) The absolute value of the difference between Sara’s height (54 inches) and Mark’s height (57 inches)\n",
    "sara_height= float(54)\n",
    "mark_height=float(57)\n",
    "print(\"The absolute value of the difference between Sara’s height is:\",mark_height - sara_height,\"inches\")\n",
    "\n",
    "# (g) The lowest price among the following prices: $34.99, $29.95, and $31.50\n",
    "price1=34.99\n",
    "price2=29.95\n",
    "price3=31.50\n",
    "print(min(price1,price2,price3))"
   ]
  },
  {
   "cell_type": "markdown",
   "metadata": {},
   "source": [
    "2.2 : Translate the following statements into Python Boolean expressions and evaluate them:"
   ]
  },
  {
   "cell_type": "code",
   "execution_count": 2,
   "metadata": {},
   "outputs": [
    {
     "name": "stdout",
     "output_type": "stream",
     "text": [
      "False\n",
      "True\n",
      "True\n",
      "False\n",
      "True\n",
      "False\n",
      "True\n"
     ]
    }
   ],
   "source": [
    "# (a) The sum of 2 and 2 is less than 4\n",
    "print((2+2) < 4)\n",
    "# (b) The value of 7 // 3 is equal to 1 + 1\n",
    "print(7 // 3 == 1 + 1)\n",
    "# (c) The sum of 3 squared and 4 squared is equal to 25.\n",
    "print(3**2 + 4**2 == 25)\n",
    "# (d) The sum of 2, 4, and 6 is greater than 12.\n",
    "print(2+4+6 > 12)\n",
    "# (e) 1387 is divisible by 19.\n",
    "print(1387 % 19 == 0)\n",
    "# (f) 31 is even. (Hint: what does the remainder when you divide by 2 tell you?)\n",
    "print(31 % 2 == 0)\n",
    "# (g) The lowest price among $34.99, $29.95, and $31.50 is less than $30.00.\n",
    "print(min(34.99,29.95,31.50,) < 30.00)\n"
   ]
  },
  {
   "cell_type": "markdown",
   "metadata": {},
   "source": [
    "2.3 Write Python statements that correspond to the actions below and execute them:"
   ]
  },
  {
   "cell_type": "code",
   "execution_count": 3,
   "metadata": {},
   "outputs": [
    {
     "name": "stdout",
     "output_type": "stream",
     "text": [
      "value of c is = 25\n"
     ]
    }
   ],
   "source": [
    "# (a) Assign integer value 3 to variable a.\n",
    "a = int(3)\n",
    "# (b) Assign 4 to variable b\n",
    "b = 4\n",
    "# (c) Assign to variable c the value of expression a * a + b * b.\n",
    "c = a * a + b * b\n",
    "print(\"value of c is =\",c)"
   ]
  },
  {
   "cell_type": "code",
   "execution_count": 4,
   "metadata": {},
   "outputs": [
    {
     "name": "stdout",
     "output_type": "stream",
     "text": [
      "antbatcod\n",
      "antantantantantantantantantant\n",
      "antbatbatcodcodcod\n",
      "antbatantbatantbatantbatantbatantbatantbat\n",
      "batbatcodbatbatcodbatbatcodbatbatcodbatbatcod\n"
     ]
    }
   ],
   "source": [
    "#2.4\n",
    "#Start by executing the assignment statements:\n",
    "s1 = 'ant'\n",
    "s2 = 'bat'\n",
    "s3 = 'cod'\n",
    "#Write Python expressions using s1, s2, and s3 and operators + and * that evaluate to:\n",
    "#(a) 'ant bat cod'\n",
    "print(s1+s2+s3)\n",
    "#(b) 'ant ant ant ant ant ant ant ant ant ant '\n",
    "print(s1*10)\n",
    "#(c) 'ant bat bat cod cod cod'\n",
    "print(s1+s2*2+s3*3)\n",
    "#(d) 'ant bat ant bat ant bat ant bat ant bat ant bat ant bat '\n",
    "print((s1+s2)*7)\n",
    "#(e) 'batbatcod batbatcod batbatcod batbatcod batbatcod '\n",
    "print(((s2*2)+(s3))*5)"
   ]
  },
  {
   "cell_type": "code",
   "execution_count": 5,
   "metadata": {},
   "outputs": [
    {
     "name": "stdout",
     "output_type": "stream",
     "text": [
      "0\n",
      "1\n",
      "6\n",
      "8\n",
      "9\n"
     ]
    }
   ],
   "source": [
    "#2.5\n",
    "#Start by executing the assignment:\n",
    "s = '0123456789'\n",
    "#Now write expressions using string s and the indexing operator that evaluate to:\n",
    "#(a) '0'\n",
    "print(s[0])\n",
    "#(b) '1'\n",
    "print(s[1])\n",
    "#(c) '6'\n",
    "print(s[6])\n",
    "#(d) '8'\n",
    "print(s[8])\n",
    "#(e) '9'\n",
    "print(s[9])"
   ]
  },
  {
   "cell_type": "code",
   "execution_count": 6,
   "metadata": {},
   "outputs": [
    {
     "name": "stdout",
     "output_type": "stream",
     "text": [
      "{'bat': 'badminton'}\n"
     ]
    }
   ],
   "source": [
    "#2.6\n",
    "#First execute the assignment\n",
    "words = ['bat', 'ball', 'barn', 'basket', 'badminton']\n",
    "#Now write two Python expressions that evaluate to the first and last, respectively, word in words, in dictionary order\n",
    "dict ={words[0]:words[-1]}\n",
    "print(dict)"
   ]
  },
  {
   "cell_type": "code",
   "execution_count": 7,
   "metadata": {},
   "outputs": [
    {
     "name": "stdout",
     "output_type": "stream",
     "text": [
      "2\n",
      "[9, 7, 7, 10, 3, 9, 6, 6, 4]\n",
      "10\n",
      "[3, 4, 6, 6, 7, 7, 9, 9, 10]\n",
      "52.111111111111114\n"
     ]
    }
   ],
   "source": [
    "#2.7\n",
    "#Given the list of student homework grades\n",
    "grades = [9, 7, 7, 10, 3, 9, 6, 6, 2]\n",
    "#write:\n",
    "#(a) An expression that evaluates to the number of 7 grades\n",
    "print(grades.count(7))\n",
    "#(b) A statement that changes the last grade to 4\n",
    "grades[-1]=4\n",
    "print(grades)\n",
    "#(c) An expression that evaluates to the maximum grade\n",
    "print(max(grades))\n",
    "#(d) A statement that sorts the list grades\n",
    "grades.sort()\n",
    "print(grades)\n",
    "#(e) An expression that evaluates to the average grade\n",
    "print(grades[0]+grades[1]+grades[2]+grades[3]+grades[4]+grades[5]+grades[6]+grades[7]+grades[8]/len(grades))"
   ]
  },
  {
   "cell_type": "markdown",
   "metadata": {},
   "source": [
    "![2-8](2-8.png)"
   ]
  },
  {
   "cell_type": "markdown",
   "metadata": {},
   "source": [
    "![2-9](2-9.png)"
   ]
  },
  {
   "cell_type": "markdown",
   "metadata": {},
   "source": [
    "2.10 Write Python expressions corresponding to the following:"
   ]
  },
  {
   "cell_type": "code",
   "execution_count": 8,
   "metadata": {},
   "outputs": [
    {
     "name": "stdout",
     "output_type": "stream",
     "text": [
      "Enter length of Perpendicular (in cm):2\n",
      "Enter length of Base (in cm):3\n",
      "Length of hypotenuse in right triangle is 13 cm\n"
     ]
    }
   ],
   "source": [
    "#(a) The length of the hypotenuse in a right triangle whose other two sides have lengths a and b\n",
    "a = eval(input(\"Enter length of Perpendicular (in cm):\"))\n",
    "b = eval(input(\"Enter length of Base (in cm):\"))\n",
    "c= pow(a,2) + pow(b,2)\n",
    "\n",
    "#(b) The value of the expression that evaluates whether the length of the above hypotenuse is 5\n",
    "print (\"Length of hypotenuse in right triangle is\",c,\"cm\")\n",
    "if c == 5:\n",
    "    print(\"Value of Hyp is = 5 cm\")\n",
    "\n",
    "#(c) The area of a disk of radius a"
   ]
  },
  {
   "cell_type": "code",
   "execution_count": 9,
   "metadata": {},
   "outputs": [
    {
     "name": "stdout",
     "output_type": "stream",
     "text": [
      "Enter radius (in meters):2\n",
      "Area of disk is: 12.566370614359172 m^2\n"
     ]
    }
   ],
   "source": [
    "#(c) The area of a disk of radius a\n",
    "from math import pi\n",
    "a= eval(input(\"Enter radius (in meters):\"))\n",
    "area= (pi)*(a**2)\n",
    "print(\"Area of disk is:\",area,\"m^2\")"
   ]
  },
  {
   "cell_type": "code",
   "execution_count": 10,
   "metadata": {},
   "outputs": [
    {
     "name": "stdout",
     "output_type": "stream",
     "text": [
      "Enter Radius (cm):6\n",
      "Enter x-axis of point:3\n",
      "Enter y-axis of point:2\n",
      "Point( 3.0 , 2.0 )lies inside the circle\n"
     ]
    }
   ],
   "source": [
    "#(d) The value of the Boolean expression that checks whether a point with coordinates x and y is inside a circle with center (a, b) and radius r\n",
    "radius= float(input(\"Enter Radius (cm):\"))\n",
    "x= float(input(\"Enter x-axis of point:\"))\n",
    "y = float(input(\"Enter y-axis of point:\"))\n",
    "#From Center to this point distance must be less than radius\n",
    "from math import sqrt\n",
    "distance = sqrt(pow((x-0),2)+pow(y-0,2))\n",
    "if distance > radius:\n",
    "    print(\"Point(\",x,\",\",y,\")doesn't lie inside the circle\")\n",
    "elif distance < radius:\n",
    "    print(\"Point(\",x,\",\",y,\")lies inside the circle\")\n",
    "else:\n",
    "    print(\"Error: No Condition was passed\")\n",
    "    "
   ]
  },
  {
   "cell_type": "markdown",
   "metadata": {},
   "source": [
    "2.11 Write Python expressions corresponding to these statements:"
   ]
  },
  {
   "cell_type": "code",
   "execution_count": 11,
   "metadata": {},
   "outputs": [
    {
     "name": "stdout",
     "output_type": "stream",
     "text": [
      "-27\n"
     ]
    }
   ],
   "source": [
    "#(a) The sum of negative integers −7 through −1\n",
    "def sum():\n",
    "    b=0\n",
    "    for a in range(-7,-1):\n",
    "        b=b+a\n",
    "    print(b)\n",
    "sum()"
   ]
  },
  {
   "cell_type": "code",
   "execution_count": 12,
   "metadata": {},
   "outputs": [
    {
     "name": "stdout",
     "output_type": "stream",
     "text": [
      "Average age is: 10.651685393258427 years\n",
      "9.5367431640625e-07\n",
      "71\n",
      "34\n"
     ]
    }
   ],
   "source": [
    "#(b) The average age of a group of kids at a summer camp given than 17 are 9 years old, 24 are 10 years old, 21 are 11 years old, and 27 are 12 years old\n",
    "avg=(17*9 + 24*10 + 21*11 + 27*12)/(17+24+21+27)\n",
    "print(\"Average age is:\",avg,\"years\")\n",
    "#(c) 2 to the power −20\n",
    "print(2**-20)\n",
    "#(d) The number of times 61 goes into 4356\n",
    "print(int(4356/61))\n",
    "#(e) The remainder when 4365 is divided by 61\n",
    "print( 4365 % 61)"
   ]
  },
  {
   "cell_type": "markdown",
   "metadata": {},
   "source": [
    "2.12 Start by evaluating, in the interactive shell, the assignment:\n"
   ]
  },
  {
   "cell_type": "code",
   "execution_count": 13,
   "metadata": {},
   "outputs": [
    {
     "name": "stdout",
     "output_type": "stream",
     "text": [
      "-+\n",
      "-+-\n",
      "+--\n",
      "+--+--\n",
      "+--+--+--+--+--+--+--+--+--+--+\n",
      "+-+++--+-+++--+-+++--+-+++--+-+++--\n"
     ]
    }
   ],
   "source": [
    "s1 = '-'\n",
    "s2 = '+'\n",
    "#Now write string expressions involving s1 and s2 and string operators + and * that evaluate to:\n",
    "#(a) '-+'\n",
    "print(s1+s2)\n",
    "#(b) '-+-'\n",
    "print(s1+s2+s1)\n",
    "#(c) '+––'\n",
    "print(s2 + 2*s1)\n",
    "#(d) '+––+––'\n",
    "print(2*(s2 + 2*s1))\n",
    "#(e) '+––+––+––+––+––+––+––+––+––+––+'\n",
    "print(10*(s2 + 2*s1) + s2)\n",
    "#(f) '+–+++––+–+++––+–+++––+–+++––+–+++––'\n",
    "print(5*(s2+s1+3*s2+2*s1))\n"
   ]
  },
  {
   "cell_type": "markdown",
   "metadata": {},
   "source": [
    "2.13 Start by running, in the shell, the following assignment statement:"
   ]
  },
  {
   "cell_type": "code",
   "execution_count": 14,
   "metadata": {},
   "outputs": [
    {
     "name": "stdout",
     "output_type": "stream",
     "text": [
      "a\n",
      "c\n",
      "z\n",
      "y\n",
      "m\n"
     ]
    }
   ],
   "source": [
    " s = 'abcdefghijklmnopqrstuvwxyz'\n",
    "#Now write expressions using string s and the indexing operator that evaluate to 'a', 'c', 'z', 'y', and 'q'.\n",
    "print(s[0])\n",
    "print(s[2])\n",
    "print(s[25])\n",
    "print(s[24])\n",
    "print(s[12])"
   ]
  },
  {
   "cell_type": "markdown",
   "metadata": {},
   "source": [
    "2.14 Start by executing"
   ]
  },
  {
   "cell_type": "code",
   "execution_count": 15,
   "metadata": {},
   "outputs": [
    {
     "name": "stdout",
     "output_type": "stream",
     "text": [
      "True\n",
      "False\n",
      "False\n",
      "False\n",
      "True\n",
      "False\n",
      "False\n"
     ]
    }
   ],
   "source": [
    "s = 'goodbye'\n",
    "#Then write a Boolean expression that checks whether:\n",
    "#(a) The first character of string s is 'g'\n",
    "print(s[0] == 'g')\n",
    "#(b) The seventh character of s is 'g'\n",
    "print(s[6] == 'g')\n",
    "#(c) The first two characters of s are 'g' and 'a'\n",
    "print((s[0] == 'g' and s[1] == 'a'))\n",
    "#(d) The next to last character of s is 'x'\n",
    "print(s[-1] == 'x' )\n",
    "#(e) The middle character of s is 'd'\n",
    "print(s[len(s)//2] == 'd')\n",
    "#(f) The first and last characters of string s are equal\n",
    "print(s[0] == s[-1])\n",
    "#(g) The last four characters of string s match the string 'tion'\n",
    "print(s[-4:] == \"tion\")"
   ]
  },
  {
   "cell_type": "markdown",
   "metadata": {},
   "source": [
    "2.15 Write Python expressions corresponding to these statements:"
   ]
  },
  {
   "cell_type": "code",
   "execution_count": 16,
   "metadata": {},
   "outputs": [
    {
     "name": "stdout",
     "output_type": "stream",
     "text": [
      "True\n",
      "True\n",
      "True\n",
      "True\n"
     ]
    }
   ],
   "source": [
    "#(a) The number of characters in the word \"anachronistically\" is 1 more than the number of characters in the word \"counterintuitive.\"\n",
    "print(len(\"anachronistically\") == 1+ len(\"counterintuitive\"))\n",
    "#(b) The word \"misinterpretation\" appears earlier in the dictionary than the word \"misrepresentation.\"\n",
    "print(\"misinterpretation\" < \"misrepresentation\")\n",
    "#(c) The letter \"e\" does not appear in the word \"floccinaucinihilipilification.\"\n",
    "print(\"floccinaucinihilipilification\".find(\"e\") == -1)\n",
    "#(d) The number of characters in the word \"counterrevolution\" is equal to the sum of the number of characters in words \"counter\" and \"resolution.\"\n",
    "print(len(\"counterrevolution\") == len(\"counter\") + len(\"resolution\"))"
   ]
  },
  {
   "cell_type": "markdown",
   "metadata": {},
   "source": [
    "2.16 Write the corresponding Python assignment statements:\n"
   ]
  },
  {
   "cell_type": "code",
   "execution_count": 17,
   "metadata": {},
   "outputs": [
    {
     "name": "stdout",
     "output_type": "stream",
     "text": [
      "a = 6 b = 7\n",
      "6.5\n",
      "['paper', 'staples', 'pencils']\n",
      "John 'Fitzgerald kennedy\n"
     ]
    }
   ],
   "source": [
    "#(a) Assign 6 to variable a and 7 to variable b.\n",
    "a=6\n",
    "b=7\n",
    "print(\"a =\",a,\"b =\",b)\n",
    "#(b) Assign to variable c the average of variables a and b.\n",
    "c = (a+b)/2\n",
    "print(c)\n",
    "#(c) Assign to variable inventory the list containing strings 'paper', 'staples', and 'pencils'.\n",
    "inventory = [\"paper\",\"staples\",\"pencils\"]\n",
    "print(inventory)\n",
    "#(d) Assign to variables first, middle and last the strings 'John', 'Fitzgerald', and 'Kennedy'.\n",
    "first, middle, last = \"John\",\"'Fitzgerald\",\"kennedy\"\n",
    "#(e) Assign to variable fullname the concatenation of string variables first, middle, and last. Make sure you incorporate blank spaces appropriately.\n",
    "fullname = first+\" \"+middle+\" \"+last\n",
    "print(fullname)"
   ]
  },
  {
   "cell_type": "markdown",
   "metadata": {},
   "source": [
    "2.17 Using variables defined in Exercise 2.16, write Boolean expressions corresponding to the following logical statements and evaluate the expressions:"
   ]
  },
  {
   "cell_type": "code",
   "execution_count": 18,
   "metadata": {},
   "outputs": [
    {
     "name": "stdout",
     "output_type": "stream",
     "text": [
      "True\n",
      "False\n",
      "True\n",
      "True\n",
      "False\n",
      "False\n"
     ]
    }
   ],
   "source": [
    "#(a) The sum of 17 and −9 is less than 10.\n",
    "print(17-9 < 10)\n",
    "#(b) The length of list inventory is more than five times the length of string fullname\n",
    "print(len(inventory) > 5*len(fullname))\n",
    "#(c) c is no more than 24.\n",
    "print(c <= 24)\n",
    "#(d) 6.75 is between the values of integers a and b.\n",
    "print((6.75 < a and 6.75 > b) or (6.75 < b and 6.75 > a))\n",
    "#(e) The length of string middle is larger than the length of string first and smaller than the length string last.\n",
    "print(len(middle) > len(first) and len(middle) < len(last))\n",
    "#(f) Either the list inventory is empty or it has more than 10 objects in it.\n",
    "x= [1,2,3]\n",
    "print(len(x)==0 or len(x) > 10)"
   ]
  },
  {
   "cell_type": "markdown",
   "metadata": {},
   "source": [
    "2.18 Write Python statements corresponding to the following:"
   ]
  },
  {
   "cell_type": "code",
   "execution_count": 19,
   "metadata": {},
   "outputs": [
    {
     "name": "stdout",
     "output_type": "stream",
     "text": [
      "False\n",
      "['rose', 'bougainvillea', 'yucca']\n",
      "['lilly of the valley']\n",
      "['rose', 'bougainvillea', 'yucca', 'lilly of the valley']\n"
     ]
    }
   ],
   "source": [
    "#(a) Assign to variable flowers a list containing strings 'rose', 'bougainvillea', 'yucca', 'marigold', 'daylilly', and 'lilly of the valley'.\n",
    "flowers = [\"rose\",\"bougainvillea\",\"yucca\",\"marigold\", \"daylilly\", \"lilly of the valley\"]\n",
    "#(b) Write a Boolean expression that evaluates to True if string 'potato' is in list flowers, and evaluate the expression.\n",
    "print(\"potato\" in flowers)\n",
    "#(c) Assign to list thorny the sublist consisting of the first three objects in list flowers.\n",
    "thorny = flowers[0:3]\n",
    "print(thorny)\n",
    "#(d) Assign to list poisonous the sublist consisting of just the last object of list flowers\n",
    "poisonous = [flowers[-1]]\n",
    "print(poisonous)\n",
    "#(e) Assign to list dangerous the concatenation of lists thorny and poisonous.\n",
    "dangerous = thorny + poisonous\n",
    "print(dangerous)"
   ]
  },
  {
   "cell_type": "markdown",
   "metadata": {},
   "source": [
    "2.19 Start by assigning to variable answers a list containing an arbitrary sequence of strings 'Y' and 'N'. For example:"
   ]
  },
  {
   "cell_type": "code",
   "execution_count": 20,
   "metadata": {},
   "outputs": [
    {
     "name": "stdout",
     "output_type": "stream",
     "text": [
      "5\n",
      "6\n",
      "0.45454545454545453\n",
      "['N', 'N', 'N', 'N', 'N', 'N', 'Y', 'Y', 'Y', 'Y', 'Y']\n",
      "6\n"
     ]
    }
   ],
   "source": [
    "answers = ['Y', 'N', 'N', 'Y', 'N', 'Y', 'Y', 'Y', 'N', 'N', 'N']\n",
    "#Write Python statements corresponding to the following:\n",
    "#(a) Assign to variable numYes the number of occurrences of 'Y' in list answers.\n",
    "num = answers.count('Y')\n",
    "print(num)\n",
    "#(b) Assign to variable numNo the number of occurrences of 'N' in list answers.\n",
    "num = answers.count('N')\n",
    "print(num)\n",
    "#(c) Assign to variable percentYes the percentage of strings in answers that are 'Y'.\n",
    "percent = answers.count('Y')/len(answers)\n",
    "print(percent)\n",
    "#(d) Sort the list answers.\n",
    "answers.sort()\n",
    "print(answers)\n",
    "#(e) Assign to variable f the index of the first occurrence of 'Y' in sorted list answers.\n",
    "f = answers.count('N')\n",
    "print(f)"
   ]
  },
  {
   "cell_type": "markdown",
   "metadata": {},
   "source": [
    "Write an expression involving a three-letter string s that evaluates to a string whos characters are the characters of s in reverse order. If s is 'top', the expression should evaluate to 'pot'."
   ]
  },
  {
   "cell_type": "code",
   "execution_count": 21,
   "metadata": {},
   "outputs": [
    {
     "name": "stdout",
     "output_type": "stream",
     "text": [
      "pot\n"
     ]
    }
   ],
   "source": [
    "s='top'\n",
    "t= s[::-1]\n",
    "print(t)"
   ]
  },
  {
   "cell_type": "markdown",
   "metadata": {},
   "source": [
    "2.21 Write an expression involving strings s and t containing the last name and the first name, respectively, of a person that evaluates to the person’s initials. If the two strings contained the first and last name of this book’s author, the expression would evaluate to 'LP'."
   ]
  },
  {
   "cell_type": "code",
   "execution_count": 22,
   "metadata": {},
   "outputs": [
    {
     "name": "stdout",
     "output_type": "stream",
     "text": [
      "SF\n"
     ]
    }
   ],
   "source": [
    "\n",
    "s='Syed'\n",
    "t='Fasih'\n",
    "print(s[0]+t[0])"
   ]
  },
  {
   "cell_type": "markdown",
   "metadata": {},
   "source": [
    "2.22 The range of a list of numbers is the largest difference between any two numbers in the list. Write a Python expression that computes the range of a list of numbers lst. If the list lst is, say, [3, 7, -2, 12], the expression should evaluate to 14 (the difference between 12 and −2."
   ]
  },
  {
   "cell_type": "code",
   "execution_count": 23,
   "metadata": {},
   "outputs": [
    {
     "name": "stdout",
     "output_type": "stream",
     "text": [
      "14\n"
     ]
    }
   ],
   "source": [
    "lst= [3, 7, -2, 12]\n",
    "print(max(lst) - min(lst))\n"
   ]
  },
  {
   "cell_type": "markdown",
   "metadata": {},
   "source": [
    "2.23 Start by assigning to variables monthsL and monthsT a list and a tuple, respectively, both containing strings 'Jan', 'Feb', 'Mar', and 'May', in that order. Then attempt the following with both containers:"
   ]
  },
  {
   "cell_type": "code",
   "execution_count": 24,
   "metadata": {},
   "outputs": [
    {
     "name": "stdout",
     "output_type": "stream",
     "text": [
      "['Jan', 'Feb', 'Mar', 'Apr', 'May']\n",
      "['Jan', 'Feb', 'Mar', 'Apr', 'May', 'Jun']\n",
      "['Jan', 'Feb', 'Mar', 'Apr', 'May']\n",
      "['Jan', 'Mar', 'Apr', 'May']\n",
      "['May', 'Apr', 'Mar', 'Jan']\n",
      "['Apr', 'Jan', 'Mar', 'May']\n"
     ]
    }
   ],
   "source": [
    "monthsL = ['Jan', 'Feb', 'Mar','May']\n",
    "monthsT = ('Jan', 'Feb', 'Mar','May')\n",
    "#(a) Insert string 'Apr' between 'Mar' and 'May'.\n",
    "monthsL.insert(3,\"Apr\")\n",
    "print(monthsL)\n",
    "#(b) Append string 'Jun'.\n",
    "monthsL.append('Jun')\n",
    "print(monthsL)\n",
    "#(c) Pop the container.\n",
    "monthsL.pop()\n",
    "print(monthsL)\n",
    "#(d) Remove the second item in the container\n",
    "monthsL.remove(monthsL[1])\n",
    "print(monthsL)\n",
    "#(e) Reverse the order of items in the container.\n",
    "monthsL.reverse()\n",
    "print(monthsL)\n",
    "#(f) Sort the container.\n",
    "monthsL.sort()\n",
    "print(monthsL)"
   ]
  },
  {
   "cell_type": "markdown",
   "metadata": {},
   "source": [
    "2.24 Start by assigning to variable grades a list containing an arbitrary sequence of grades (strings) 'A', 'B', 'C', 'D', and 'F'. For example:\n"
   ]
  },
  {
   "cell_type": "code",
   "execution_count": 25,
   "metadata": {},
   "outputs": [
    {
     "name": "stdout",
     "output_type": "stream",
     "text": [
      "[4, 4, 2, 2, 1]\n"
     ]
    }
   ],
   "source": [
    "grades = ['B','B','F','C','B','A','A','D','C','D','A','A','B']\n",
    "#he numbers of occurrences of each grade in list grades in alphabetic order. For the given example, the list count should be [4, 4, 2, 2, 1].\n",
    "count = [grades.count('A'),grades.count('B'),grades.count('C'),grades.count('D'),grades.count('F')]\n",
    "print(count)"
   ]
  },
  {
   "cell_type": "markdown",
   "metadata": {},
   "source": [
    "2.25 Repeat Problem 2.24 with the following modification: variable grades is defined to be of type tuple rather than of type list:\n"
   ]
  },
  {
   "cell_type": "code",
   "execution_count": 26,
   "metadata": {},
   "outputs": [
    {
     "name": "stdout",
     "output_type": "stream",
     "text": [
      "[4, 4, 2, 2, 1]\n"
     ]
    }
   ],
   "source": [
    "grades = ('B','B','F','C','B','A','A','D','C','D','A','A','B')\n",
    "#Variable count should still refer to a list.\n",
    "count = [grades.count('A'),grades.count('B'),grades.count('C'),grades.count('D'),grades.count('F')]\n",
    "print(count)"
   ]
  },
  {
   "cell_type": "markdown",
   "metadata": {},
   "source": [
    "2.26 A dartboard of radius 10 and the wall it is hanging on are represented using the twodimensional coordinate system, with the board’s center at coordinate (0, 0). Variables x and y store the x- and y-coordinate of a dart hit. Write an expression using variables x and y that evaluates to True if the dart hits (is within) the dartboard, and evaluate the expression for these dart coordinates"
   ]
  },
  {
   "cell_type": "code",
   "execution_count": 27,
   "metadata": {},
   "outputs": [
    {
     "name": "stdout",
     "output_type": "stream",
     "text": [
      "Dart hits the the dartboard\n",
      "Dart doesn't hit the dartboard\n",
      "Dart hits the the dartboard\n",
      "Dart doesn't hit the dartboard\n"
     ]
    }
   ],
   "source": [
    "#(a) (0, 0)\n",
    "#(b) (10, 10)\n",
    "#(c) (6, −6)\n",
    "#(d) (−7, 8)\n",
    "r =10\n",
    "xaxes = [0,10,6,-7]\n",
    "yaxes = [0,10,-6,8]\n",
    "for x in xaxes:\n",
    "    if x == xaxes[0]:\n",
    "        y= yaxes[0]\n",
    "    elif x == xaxes[1]:\n",
    "        y=yaxes[1]\n",
    "    elif x == xaxes[2]:\n",
    "        y=yaxes[2]\n",
    "    elif x == xaxes[3]:\n",
    "        y=yaxes[3]\n",
    "    else:\n",
    "        print(\"List is too big\")\n",
    "    if x**2 + y**2 < r**2 :\n",
    "        print(\"Dart hits the the dartboard\")\n",
    "    else:\n",
    "        print(\"Dart doesn't hit the dartboard\")"
   ]
  },
  {
   "cell_type": "markdown",
   "metadata": {},
   "source": [
    "2.27 A ladder put up right against a wall will fall over unless put up at a certain angle less than 90 degrees. Given variables length and angle storing the length of the ladder and the angle that it forms with the ground as it leans against the wall, write a Python expression involving length and angle that computes the height reached by the ladder. Evaluate the expression for these values of length and angle:\n"
   ]
  },
  {
   "cell_type": "code",
   "execution_count": 28,
   "metadata": {},
   "outputs": [
    {
     "name": "stdout",
     "output_type": "stream",
     "text": [
      "Enter Length of Ladder (feet):16\n",
      "Enter angle of ladder:75\n",
      "The height of ladder is  15.454813220625093 feet\n"
     ]
    }
   ],
   "source": [
    "#(a) 16 feet and 75 degrees\n",
    "import math\n",
    "hyp = float(input(\"Enter Length of Ladder (feet):\"))\n",
    "theta = float(input(\"Enter angle of ladder:\"))\n",
    "rad= math.pi * (theta)/180\n",
    "Perp = hyp * math.sin(rad)\n",
    "print (\"The height of ladder is \", Perp,\"feet\")"
   ]
  },
  {
   "cell_type": "code",
   "execution_count": 29,
   "metadata": {},
   "outputs": [
    {
     "name": "stdout",
     "output_type": "stream",
     "text": [
      "Enter Length of Ladder (feet):20\n",
      "Enter angle of ladder:0\n",
      "The height of ladder is  0.0 feet\n"
     ]
    }
   ],
   "source": [
    "#(b) 20 feet and 0 degrees\n",
    "import math\n",
    "hyp = float(input(\"Enter Length of Ladder (feet):\"))\n",
    "theta = float(input(\"Enter angle of ladder:\"))\n",
    "rad= math.pi * (theta)/180\n",
    "Perp = hyp * math.sin(rad)\n",
    "print (\"The height of ladder is \", Perp,\"feet\")"
   ]
  },
  {
   "cell_type": "code",
   "execution_count": 30,
   "metadata": {},
   "outputs": [
    {
     "name": "stdout",
     "output_type": "stream",
     "text": [
      "Enter Length of Ladder (feet):24\n",
      "Enter angle of ladder:45\n",
      "The height of ladder is  16.970562748477143 feet\n"
     ]
    }
   ],
   "source": [
    "#(c) 24 feet and 45 degrees\n",
    "import math\n",
    "hyp = float(input(\"Enter Length of Ladder (feet):\"))\n",
    "theta = float(input(\"Enter angle of ladder:\"))\n",
    "rad= math.pi * (theta)/180\n",
    "Perp = hyp * math.sin(rad)\n",
    "print (\"The height of ladder is \", Perp,\"feet\")"
   ]
  },
  {
   "cell_type": "code",
   "execution_count": 31,
   "metadata": {},
   "outputs": [
    {
     "name": "stdout",
     "output_type": "stream",
     "text": [
      "Enter Length of Ladder (feet):24\n",
      "Enter angle of ladder:80\n",
      "The height of ladder is  23.63538607229299 feet\n"
     ]
    }
   ],
   "source": [
    "#(d) 24 feet and 80 degrees\n",
    "import math\n",
    "hyp = float(input(\"Enter Length of Ladder (feet):\"))\n",
    "theta = float(input(\"Enter angle of ladder:\"))\n",
    "rad= math.pi * (theta)/180\n",
    "Perp = hyp * math.sin(rad)\n",
    "print (\"The height of ladder is \", Perp,\"feet\")"
   ]
  },
  {
   "cell_type": "markdown",
   "metadata": {},
   "source": [
    "2.28 Write the relevant Python expression or statement, involving a list of numbers lst and using list operators and methods for these specifications:\n"
   ]
  },
  {
   "cell_type": "code",
   "execution_count": 32,
   "metadata": {},
   "outputs": [
    {
     "name": "stdout",
     "output_type": "stream",
     "text": [
      "Middle element Index is: 3\n"
     ]
    }
   ],
   "source": [
    "#(a) An expression that evaluates to the index of the middle element of lst\n",
    "lst = [4,5,6,7,8,9,10]\n",
    "middle = int(len(lst) / 2)\n",
    "print(\"Middle element Index is:\" , middle) \n"
   ]
  },
  {
   "cell_type": "code",
   "execution_count": 33,
   "metadata": {},
   "outputs": [
    {
     "name": "stdout",
     "output_type": "stream",
     "text": [
      "list is  [4, 5, 6, 7, 8, 9, 10]\n",
      "middle value is  7\n"
     ]
    }
   ],
   "source": [
    "#(b) An expression that evaluates to the middle element of lst\n",
    "lst =  [4,5,6,7,8,9,10]\n",
    "print(\"list is \", lst)\n",
    "print(\"middle value is \",lst[int(len(lst)/2)])\n"
   ]
  },
  {
   "cell_type": "code",
   "execution_count": 34,
   "metadata": {},
   "outputs": [
    {
     "name": "stdout",
     "output_type": "stream",
     "text": [
      "[60, 50, 40, 30, 20, 10]\n"
     ]
    }
   ],
   "source": [
    "#(c) A statement that sorts the list lst in descending order\n",
    "numbers = [10,20,30,40,50,60]\n",
    "# Sorting list of Integers in descending order\n",
    "numbers.sort(reverse = True )\n",
    "print(numbers)\n"
   ]
  },
  {
   "cell_type": "code",
   "execution_count": 36,
   "metadata": {},
   "outputs": [
    {
     "name": "stdout",
     "output_type": "stream",
     "text": [
      "[89, 22, 59, 109, 22, 55]\n"
     ]
    }
   ],
   "source": [
    "#(d) A statement that removes the first number of list lst and puts it at the end\n",
    "lst = [55,89,22,59,109,22]\n",
    "# Program that removes first number and puts it to the end\n",
    "lst.append(lst[0]) \n",
    "lst.remove(lst[0])\n",
    "print (lst)"
   ]
  },
  {
   "cell_type": "markdown",
   "metadata": {},
   "source": [
    "2.29 Add one or more pairs of parentheses to each expression so that it evaluates to True."
   ]
  },
  {
   "cell_type": "code",
   "execution_count": 37,
   "metadata": {},
   "outputs": [
    {
     "name": "stdout",
     "output_type": "stream",
     "text": [
      "True\n",
      "True\n",
      "True\n"
     ]
    }
   ],
   "source": [
    "#(a) 0 == 1 == 2\n",
    "print(0 == (1 == 2))\n",
    "#(b) 2 + 3 == 4 + 5 == 7\n",
    "print((2 + (3 == 4) + 5) == 7)\n",
    "#(c) 1 < -1 == 3 > 4\n",
    "print((1 < -1) == (3 > 4))"
   ]
  },
  {
   "cell_type": "markdown",
   "metadata": {},
   "source": [
    "2.30 Using an example of your own, explicitly convert some string to a list. Describe, in your own words, the behavior of the list constructor on a string input.\n"
   ]
  },
  {
   "cell_type": "code",
   "execution_count": 38,
   "metadata": {},
   "outputs": [
    {
     "name": "stdout",
     "output_type": "stream",
     "text": [
      "['S', 't', 'R', 'i', 'N', 'G', 'G']\n"
     ]
    }
   ],
   "source": [
    "s= \"StRiNGG\"\n",
    "s1= list(s)\n",
    "print(s1)"
   ]
  },
  {
   "cell_type": "markdown",
   "metadata": {},
   "source": [
    "2.31 In this chapter we have covered some, but not all, methods of class list. Using the\n",
    "following interactive session as an aid, explain in your own words what the list methods\n",
    "extend(), copy(), and clear() do."
   ]
  },
  {
   "cell_type": "code",
   "execution_count": 40,
   "metadata": {},
   "outputs": [
    {
     "name": "stdout",
     "output_type": "stream",
     "text": [
      "[2, 3, 4, 5, 6]\n",
      ".extend function merges another list in given list\n",
      "[2, 3, 4, 5, 6]\n",
      ".copy function copies list into another variable\n",
      "[]\n",
      ".clear function deletes all the values inside list\n"
     ]
    }
   ],
   "source": [
    "lst = [2, 3, 4]\n",
    "lst.extend([5, 6])\n",
    "print(lst)\n",
    "print(\".extend function merges another list in given list\")\n",
    "lst2 = lst.copy()\n",
    "print(lst2)\n",
    "print(\".copy function copies list into another variable\")\n",
    "lst.clear()\n",
    "print(lst)\n",
    "print(\".clear function deletes all the values inside list\")"
   ]
  }
 ],
 "metadata": {
  "kernelspec": {
   "display_name": "Python 3",
   "language": "python",
   "name": "python3"
  },
  "language_info": {
   "codemirror_mode": {
    "name": "ipython",
    "version": 3
   },
   "file_extension": ".py",
   "mimetype": "text/x-python",
   "name": "python",
   "nbconvert_exporter": "python",
   "pygments_lexer": "ipython3",
   "version": "3.7.4"
  }
 },
 "nbformat": 4,
 "nbformat_minor": 2
}

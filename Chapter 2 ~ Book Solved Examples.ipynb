{
 "cells": [
  {
   "cell_type": "code",
   "execution_count": 9,
   "metadata": {},
   "outputs": [
    {
     "name": "stdout",
     "output_type": "stream",
     "text": [
      "10\n",
      "6\n",
      "2.5\n",
      "2.0\n",
      "7\n",
      "12\n",
      "11.440333333333333\n",
      "0.3323846153846154\n",
      "2\n",
      "3\n",
      "8\n",
      "16\n",
      "4\n",
      "2\n",
      "4\n",
      "4\n",
      "3.2\n",
      "-2\n",
      "6\n",
      "-4\n",
      "26.5\n"
     ]
    }
   ],
   "source": [
    "#Algebraic Expressions and Functions\n",
    "print(3 + 7)\n",
    "print(3 * 2)\n",
    "print(5 / 2)\n",
    "print(4 / 2)\n",
    "print(2 * 3 + 1)\n",
    "print((3 + 1) * 3)\n",
    "print(4.321 / 3 + 10)\n",
    "print(4.321 / (3 + 10))\n",
    "print(3 - 2 + 1)\n",
    "print(3)\n",
    "print(2**3)\n",
    "print(2**4)\n",
    "print(14 // 3)\n",
    "print(14 % 3)\n",
    "print(abs(-4))\n",
    "print(abs(4))\n",
    "print(abs(-3.2))\n",
    "print(min(6, -2))\n",
    "print(max(6, -2))\n",
    "print(min(2, -4, 6, -2))\n",
    "print(max(12, 26.5, 3.5))"
   ]
  },
  {
   "cell_type": "code",
   "execution_count": 10,
   "metadata": {},
   "outputs": [
    {
     "name": "stdout",
     "output_type": "stream",
     "text": [
      "True\n",
      "False\n",
      "True\n",
      "True\n",
      "True\n",
      "False\n",
      "True\n",
      "False\n",
      "True\n",
      "False\n",
      "True\n",
      "True\n",
      "False\n",
      "False\n"
     ]
    }
   ],
   "source": [
    "#Boolean Expressions and Operators\n",
    "print(2 < 3)\n",
    "print(3 < 2)\n",
    "print(5 - 1 > 2 + 1)\n",
    "print(3 == 3)\n",
    "print(3 + 5 == 4 + 4)\n",
    "print(3 == 5 - 3)\n",
    "print(3 <= 4)\n",
    "print(3 >= 4)\n",
    "print(3 != 4)\n",
    "print(2 < 3 and 4 > 5)\n",
    "print(2 < 3 and True)\n",
    "print(3 < 4 or 4 < 3)\n",
    "print(3 < 2 or 2 < 1)\n",
    "print(not (3 < 4))"
   ]
  },
  {
   "cell_type": "code",
   "execution_count": 26,
   "metadata": {},
   "outputs": [
    {
     "name": "stdout",
     "output_type": "stream",
     "text": [
      "4\n",
      "16\n",
      "16\n",
      "7\n"
     ]
    }
   ],
   "source": [
    "#Variables and Assignments\n",
    "x = 4\n",
    "print(x)\n",
    "print(4 * x)\n",
    "counter = 4 * x\n",
    "print(counter)\n",
    "x = 7\n",
    "print(x)"
   ]
  },
  {
   "cell_type": "code",
   "execution_count": 12,
   "metadata": {},
   "outputs": [
    {
     "name": "stdout",
     "output_type": "stream",
     "text": [
      "hello\n",
      "True\n",
      "False\n",
      "True\n",
      "False\n",
      "helloworld\n",
      "hello world\n",
      "AAA\n",
      "hello hello \n",
      "------------------------------\n",
      "True\n",
      "False\n",
      "True\n",
      "5\n",
      "h\n",
      "e\n",
      "o\n"
     ]
    }
   ],
   "source": [
    "#Strings\n",
    "s = 'hello'\n",
    "print(s)\n",
    "s == 'hello'\n",
    "t = 'world'\n",
    "print(s != t)\n",
    "print(s == t)\n",
    "print(s < t)\n",
    "print(s > t)\n",
    "print(s + t)\n",
    "print(s + ' ' + t)\n",
    "print(3 * 'A')\n",
    "print('hello ' * 2)\n",
    "print(30 * '-')\n",
    "s = 'hello'\n",
    "print('h' in s)\n",
    "print('g' in s)\n",
    "print('ll' in s)\n",
    "print(len(s))\n",
    "\n",
    "#Indexing Operator\n",
    "print(s[0])\n",
    "print(s[1])\n",
    "print(s[4])"
   ]
  },
  {
   "cell_type": "code",
   "execution_count": 25,
   "metadata": {},
   "outputs": [
    {
     "name": "stdout",
     "output_type": "stream",
     "text": [
      "['goldfish', 'cat', 'dog']\n",
      "goldfish\n",
      "dog\n",
      "dog\n",
      "['goldfish', 'cat', 'dog', 'goldfish', 'cat', 'dog']\n",
      "['goldfish', 'cat', 'dog', 'goldfish', 'cat', 'dog']\n",
      "False\n",
      "True\n",
      "19.99\n",
      "120.99\n",
      "199.46999999999997\n",
      "['goldfish', 'cymric cat', 'dog']\n",
      "cymric bat\n",
      "('Mo', 'Tu', 'We')\n",
      "('Mo', 'Tu', 'We', 'Th')\n",
      "False\n",
      "('Mo', 'Tu', 'We', 'Th', 'Fr', 'Sa', 'Su')\n",
      "7\n",
      "('Mo', 'Tu', 'We', 'Th', 'Fr', 'Sa', 'Su', 'Mo', 'Tu', 'We', 'Th', 'Fr', 'Sa', 'Su')\n",
      "We\n",
      "4\n",
      "['goldfish', 'cymric cat', 'dog', 'guinea pig']\n",
      "['goldfish', 'cymric cat', 'dog', 'guinea pig', 'dog']\n",
      "2\n",
      "None\n",
      "['goldfish', 'cymric cat', 'guinea pig', 'dog']\n",
      "['dog', 'guinea pig', 'cymric cat', 'goldfish']\n",
      "['cymric cat', 'dog', 'goldfish', 'guinea pig']\n",
      "[2, 4, 5, 8]\n"
     ]
    }
   ],
   "source": [
    "#Lists and Tuples\n",
    "pets = ['goldfish', 'cat', 'dog']\n",
    "print(pets)\n",
    "things = ['one', 2, [3, 4]]\n",
    "print(pets[0])\n",
    "print(pets[2])\n",
    "print(pets[-1])\n",
    "print(pets + pets)\n",
    "print(pets * 2)\n",
    "print('rabbit' in pets)\n",
    "print('dog' in pets)\n",
    "\n",
    "lst = [23.99, 19.99, 34.50, 120.99]\n",
    "print(min(lst))\n",
    "print(max(lst))\n",
    "print(sum(lst))\n",
    "pets[1] = 'cymric cat'\n",
    "print(pets)\n",
    "myCat = 'cymric bat'\n",
    "print(myCat)\n",
    "#Tuples, or “Immutable Lists”\n",
    "days = ('Mo', 'Tu', 'We')\n",
    "print(days)\n",
    "days = 'Mo', 'Tu', 'We', 'Th'\n",
    "print(days)\n",
    "print('Fr' in days)\n",
    "week = days + ('Fr', 'Sa', 'Su')\n",
    "print(week)\n",
    "print(len(week))\n",
    "print(2*week)\n",
    "print(days[2])\n",
    "#List and Tuple Methods\n",
    "numbers = [6, 9, 4, 22]\n",
    "print(min(numbers))\n",
    "pets.append('guinea pig')\n",
    "print(pets)\n",
    "pets.append('dog')\n",
    "print(pets)\n",
    "print(pets.count('dog'))\n",
    "print(pets.remove('dog'))\n",
    "print(pets)\n",
    "pets.reverse()\n",
    "print(pets)\n",
    "pets.sort()\n",
    "print(pets)\n",
    "\n",
    "lst = [4, 2, 8, 5]\n",
    "lst.sort()\n",
    "print(lst)"
   ]
  },
  {
   "cell_type": "code",
   "execution_count": 3,
   "metadata": {},
   "outputs": [
    {
     "name": "stdout",
     "output_type": "stream",
     "text": [
      "<class 'int'>\n",
      "<class 'float'>\n",
      "<class 'str'>\n",
      "<class 'list'>\n",
      "<class 'int'>\n",
      "179769313486231590772930519078902473361797697894230657273430081157732675805500963132708477322407536021120113879871393357658789768814416622492847430639474124377767893424865485276302219601246094119453082952085005768838150682342462881473913110540827237163350510684586298239947245938479716304835356329624224137216\n",
      "1073741824.0\n",
      "1073741824.0\n",
      "1.2676506002282294e+30\n",
      "1267650600228229401496703205376\n",
      "7.888609052210118e-31\n",
      "5e-324\n",
      "True\n",
      "7\n",
      "0\n",
      "0\n"
     ]
    }
   ],
   "source": [
    "#Object Type\n",
    "print(type(3))\n",
    "print(type(3.0))\n",
    "print(type('Hello World'))\n",
    "print(type([1, 1, 2, 3, 5, 8]))\n",
    "a = 3\n",
    "print(type(a))\n",
    "#Valid Values for Number Types\n",
    "x = 2**1024\n",
    "print(x)\n",
    "pi = 3.141592653589793\n",
    "print(2.0**30)\n",
    "print(1073741824.0)\n",
    "print(2.0**100)\n",
    "print(2**100)\n",
    "print(2.0**-100)\n",
    "print(2.0**-1075)\n",
    "print(3 <= 3 < 4)\n",
    "print(2 * 3 + 1)\n",
    "print(2 - 3 + 1)\n",
    "print((2 - 3) + 1)"
   ]
  },
  {
   "cell_type": "code",
   "execution_count": 4,
   "metadata": {},
   "outputs": [
    {
     "name": "stdout",
     "output_type": "stream",
     "text": [
      "3\n",
      "0\n",
      "0.0\n",
      "\n",
      "[]\n",
      "6\n",
      "3.35\n",
      "3\n",
      "-3\n",
      "3.0\n",
      "2.72\n",
      "['goldfish', 'cat', 'dog', 'guinea pig', 'dog']\n",
      "2\n",
      "['dog', 'guinea pig', 'cat', 'goldfish']\n"
     ]
    }
   ],
   "source": [
    "#Creating Objects\n",
    "x = int(3)\n",
    "print(x)\n",
    "x = int()\n",
    "print(x)\n",
    "y = float()\n",
    "print(y)\n",
    "s = str()\n",
    "print(s)\n",
    "lst = list()\n",
    "print(lst)\n",
    "#Implicit Type Conversions\n",
    "print(True + 5)\n",
    "print(3 + 0.35)\n",
    "#Explicit Type Conversions\n",
    "print(int(3.4))\n",
    "print(int(-3.6))\n",
    "print(float(3))\n",
    "print(str(2.72))\n",
    "#Class Methods and Object-Oriented Programming\n",
    "pets = ['goldfish', 'cat', 'dog']\n",
    "pets.append('guinea pig')\n",
    "pets.append('dog')\n",
    "print(pets)\n",
    "print(pets.count('dog'))\n",
    "pets.remove('dog')\n",
    "pets.reverse()\n",
    "print(pets)\n",
    "pets.append('guinea pig')"
   ]
  },
  {
   "cell_type": "code",
   "execution_count": 29,
   "metadata": {},
   "outputs": [
    {
     "data": {
      "text/plain": [
       "1.7320508075688772"
      ]
     },
     "execution_count": 29,
     "metadata": {},
     "output_type": "execute_result"
    }
   ],
   "source": [
    "#Python Standard Libary\n",
    "#Module math\n",
    "import math\n",
    "print(math.sqrt(3)"
   ]
  },
  {
   "cell_type": "code",
   "execution_count": null,
   "metadata": {},
   "outputs": [],
   "source": []
  }
 ],
 "metadata": {
  "kernelspec": {
   "display_name": "Python 3",
   "language": "python",
   "name": "python3"
  },
  "language_info": {
   "codemirror_mode": {
    "name": "ipython",
    "version": 3
   },
   "file_extension": ".py",
   "mimetype": "text/x-python",
   "name": "python",
   "nbconvert_exporter": "python",
   "pygments_lexer": "ipython3",
   "version": "3.7.4"
  }
 },
 "nbformat": 4,
 "nbformat_minor": 2
}
